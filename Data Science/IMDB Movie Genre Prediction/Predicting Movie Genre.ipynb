{
 "cells": [
  {
   "cell_type": "markdown",
   "metadata": {},
   "source": [
    "# Predicting Movie Genre - MA 346 - Prof. Giansiracusa\n",
    "## Final Project (Due Dec 18, report in PDF/Word and Python code in .py file):\n",
    "\n",
    "### Data Files\n",
    "* [ratings.csv](ratings.csv)\n",
    "* [imdb.csv](imdb.csv)\n",
    "* [movie data.xlsx](movie_data.xlsx)"
   ]
  },
  {
   "cell_type": "markdown",
   "metadata": {},
   "source": [
    "### Part I: Counting the genres of highly rated movies/shows, using a web API"
   ]
  },
  {
   "cell_type": "code",
   "execution_count": null,
   "metadata": {},
   "outputs": [],
   "source": [
    "#make the necessary imports\n",
    "import requests\n",
    "import numpy as np\n",
    "import pandas as pd\n",
    "from matplotlib import pyplot as plt\n",
    "from sklearn.model_selection import train_test_split\n",
    "from sklearn.feature_extraction.text import TfidfVectorizer\n",
    "from sklearn.pipeline import make_pipeline\n",
    "from sklearn.naive_bayes import MultinomialNB\n",
    "from sklearn.naive_bayes import GaussianNB\n",
    "from sklearn.metrics import confusion_matrix\n",
    "from sklearn.metrics import accuracy_score\n",
    "from sklearn.model_selection import cross_val_score\n",
    "import seaborn as sns\n",
    "import json\n",
    "import os\n",
    "from collections import Counter"
   ]
  },
  {
   "cell_type": "markdown",
   "metadata": {},
   "source": [
    "1.\tRead in the file \"ratings.csv\" and get the \"tconst\" values for the top 1000 rated movies (or any collection of 1000 movies in this file all with rating 10.0)"
   ]
  },
  {
   "cell_type": "code",
   "execution_count": null,
   "metadata": {},
   "outputs": [],
   "source": [
    "#read in the file as a pandas dataframe\n",
    "df = pd.read_csv(\"ratings.csv\")"
   ]
  },
  {
   "cell_type": "code",
   "execution_count": null,
   "metadata": {},
   "outputs": [],
   "source": [
    "print(df)"
   ]
  },
  {
   "cell_type": "code",
   "execution_count": null,
   "metadata": {},
   "outputs": [],
   "source": [
    "#sorts the dataframe by average rating, saves it to new varaible\n",
    "df_sort = df.sort_values(by = ['averageRating'], ascending = False)\n",
    "#.head() shows the first 10 rows to confirm the sorting worked\n",
    "df_sort.head()"
   ]
  },
  {
   "cell_type": "code",
   "execution_count": null,
   "metadata": {},
   "outputs": [],
   "source": [
    "#takes the first 1000 rows of the 'tconst' column in our sorted dataframe as a list\n",
    "tconst_values = list(df_sort['tconst'][:1000])"
   ]
  },
  {
   "cell_type": "markdown",
   "metadata": {},
   "source": [
    "2.\tRequest an API key at the following website (a free account allows you to access their data 1000 times per day): http://www.omdbapi.com/\n",
    "3.\tUse this API to download the JSON files for your 1000 movies based on their imdb ID and store this in a list of dictionaries (some these dictionaries will just contain an error message because IMDB could not find the movie you requested, so ignore these and only keep the dictionaries that have some actual movie data in them)"
   ]
  },
  {
   "cell_type": "code",
   "execution_count": null,
   "metadata": {},
   "outputs": [],
   "source": [
    "#create empty list to append data into\n",
    "calls = []\n",
    "\n",
    "#iterate through each tconst values\n",
    "for tconst in tconst_values:\n",
    "    try:\n",
    "        #substitute 'tconst' for the actual number each time through the loop to make the request save request object\n",
    "        #note to run this code you need to cut and paste a new API key because this one is past call limit\n",
    "        req = requests.get(\"http://www.omdbapi.com/?i=\" + tconst + \"&apikey=7a38e92f\").text\n",
    "        #convert the text from the request from JSON format into Python dictionary format\n",
    "        req_json = json.loads(req)\n",
    "        #append dictionary to calls list\n",
    "        calls.append(req_json)\n",
    "    except:\n",
    "        #if json.loads(req) throws an error print message\n",
    "        print(\"This run failed, call number: \" + str(len(calls) + 1))\n",
    "#prints how many movies have successfully been added to calls list\n",
    "print(str(len(calls)))"
   ]
  },
  {
   "cell_type": "code",
   "execution_count": null,
   "metadata": {
    "scrolled": true
   },
   "outputs": [],
   "source": [
    "#converts calls list into a Pandas DataFrame and uses .head() to show first 10 rows\n",
    "calls = pd.DataFrame(calls)\n",
    "calls.head(10)"
   ]
  },
  {
   "cell_type": "code",
   "execution_count": null,
   "metadata": {},
   "outputs": [],
   "source": [
    "#Write calls dataframe to csv for reproducability purposes\n",
    "calls.to_excel(\"movie data.xlsx\")"
   ]
  },
  {
   "cell_type": "markdown",
   "metadata": {},
   "source": [
    "4.\tCount the number of movies in your list for each of the possible values for \"Genre\" (some movies have multiple genres, if one is tagged as, say, \"Drama, Comedy\" then I want you to count it as both a Comedy and a Drama, then produce a bar plot showing the number for each genre (for example, it might show 350 Drama, 200 Romance, 500 Comedy, 400 NaN, etc.---it may add up to more than 1000 due to movies tagged as multiple genres, but also you removed the JSON requests with error responses so it may add up to less than 1000)."
   ]
  },
  {
   "cell_type": "code",
   "execution_count": null,
   "metadata": {},
   "outputs": [],
   "source": [
    "genre_dict = {}\n",
    "drop_indeces = []\n",
    "\n",
    "#loop through calls and store frequency of film genres in a dictionary\n",
    "#The IF conditional takes care of unexpected datatypes in the genre column. The first run through failed to execute\n",
    "#due to float and int typing breaking the .split() method. Indeces are stored to drop these rows from the dataframe.\n",
    "\n",
    "#TODO: replace for loop with list comprehension\n",
    "\n",
    "for j, i in enumerate(calls[\"Genre\"]):\n",
    "    if type(i) == float or type(i) == int:\n",
    "        drop_indeces.append(j)\n",
    "    else:\n",
    "        genres = i.split(\", \")\n",
    "    for i in genres:\n",
    "        if not i in genre_dict:\n",
    "            genre_dict[i] = 1\n",
    "        else:\n",
    "            genre_dict[i] +=1\n",
    "\n",
    "\n",
    "print(genre_dict)"
   ]
  },
  {
   "cell_type": "code",
   "execution_count": null,
   "metadata": {},
   "outputs": [],
   "source": [
    "# Utilizes Counter() object to create dictionary of the 3 most common genres\n",
    "k = Counter(genre_dict)\n",
    "top_3 = dict(k.most_common(3))"
   ]
  },
  {
   "cell_type": "code",
   "execution_count": null,
   "metadata": {},
   "outputs": [],
   "source": [
    "# Generates a bar plot of the top 5 most common genres\n",
    "\n",
    "plt.bar(range(len(top_3)), top_3.values(), align=\"center\")\n",
    "plt.xticks(range(len(top_3)), top_3.keys())\n",
    "plt.title('Frequencies of Movie Genres')\n",
    "plt.show()"
   ]
  },
  {
   "cell_type": "markdown",
   "metadata": {},
   "source": [
    "### Part II: Predicting movie genre from movie descriptions, using text mining on clean data\n",
    "\n",
    "1.\tRead in the file \"imdb.csv\" as a Pandas data frame, and create a new column in this data frame consisting of the first word appearing in the Genre (so if the Genre for a movie is listed as \"Action,Adventure,Sci-Fi\" then your new column should have the value \"Action\")"
   ]
  },
  {
   "cell_type": "code",
   "execution_count": null,
   "metadata": {},
   "outputs": [],
   "source": [
    "# BEGIN CODING SECTION 2# \n",
    "imdb_df = pd.read_csv(\"imdb.csv\")"
   ]
  },
  {
   "cell_type": "code",
   "execution_count": null,
   "metadata": {},
   "outputs": [],
   "source": [
    "# Generate list of First Genres\n",
    "new_cols = [ i.split(\",\")[0] for i in imdb_df[\"Genre\"]]\n",
    "\n",
    "# add list to imdb_df\n",
    "imdb_df[\"TopGenre\"] = new_cols\n",
    "\n",
    "print(imdb_df)"
   ]
  },
  {
   "cell_type": "code",
   "execution_count": null,
   "metadata": {},
   "outputs": [],
   "source": [
    "# verify that new column was added to the dataframe\n",
    "labels_list = []\n",
    "for i in imdb_df['TopGenre']:\n",
    "    if not i in labels_list:\n",
    "        labels_list.append(i)\n",
    "print(labels_list)"
   ]
  },
  {
   "cell_type": "markdown",
   "metadata": {},
   "source": [
    "2.\tFollowing the text classification example on p386 of Python Handbook, use multinomial Naive Bayes \"MultinonialNB\" with the \"TfidfVectorizer\" to transform the text in the \"Description\" column of your data frame into a feature matrix and use your single-genre column as the target array.  In the example on p386 there is a training data set and a test data set, but for your movie data you have the target variable (the single-genre) for every movie so similar to the Example on p351, for your movie data I want you to use cross-validation to automatically split your data into train and test and to average the accuracy score obtained over these splits."
   ]
  },
  {
   "cell_type": "code",
   "execution_count": null,
   "metadata": {},
   "outputs": [],
   "source": [
    "# create testing and training dataframes \n",
    "Xtrain, Xtest, ytrain, ytest = train_test_split(imdb_df['Description'], imdb_df['TopGenre'], random_state=1)"
   ]
  },
  {
   "cell_type": "code",
   "execution_count": null,
   "metadata": {},
   "outputs": [],
   "source": [
    "# instantiate model object\n",
    "model = make_pipeline(TfidfVectorizer(), MultinomialNB())"
   ]
  },
  {
   "cell_type": "code",
   "execution_count": null,
   "metadata": {},
   "outputs": [],
   "source": [
    "model.fit(imdb_df['Description'], imdb_df['TopGenre'])\n",
    "Xtest_predicted = model.predict(Xtest)\n",
    "Xtest_predicted = Xtest_predicted.tolist()"
   ]
  },
  {
   "cell_type": "code",
   "execution_count": null,
   "metadata": {},
   "outputs": [],
   "source": [
    "ytest = ytest.tolist()\n",
    "for i in range(len(ylabels)):\n",
    "    print(Xtest_predicted[i], ytest[i])"
   ]
  },
  {
   "cell_type": "code",
   "execution_count": null,
   "metadata": {},
   "outputs": [],
   "source": [
    "mat = confusion_matrix(ytest, Xtest_predicted)\n",
    "print(mat)\n",
    "sns.heatmap(mat.T, square=True, annot=True, fmt='d', cbar=False, xticklabels = labels_list, yticklabels = labels_list)\n",
    "plt.xlabel('true label')\n",
    "plt.ylabel('predicted label')\n",
    "plt.show()"
   ]
  },
  {
   "cell_type": "code",
   "execution_count": null,
   "metadata": {},
   "outputs": [],
   "source": [
    "#NOTE: if a model were to be put into production it is recommended that the dataset me modified in order to ensure that the\n",
    "#      minimum number of members of the least popular class be greater than or equal to the number of splits used in k-fold \n",
    "#      cross validation. You could either use a smaller amount of folds or remove the least popular classes until the rule is\n",
    "#      satisfied.\n",
    "\n",
    "print('The average accuracy score obtained over 5-fold CV is: ' + \n",
    "      str(cross_val_score(model, imdb_df['Description'], imdb_df['TopGenre'], cv=5).mean()))"
   ]
  },
  {
   "cell_type": "markdown",
   "metadata": {},
   "source": [
    "### Part III: Revenue, runtime, and rating\n",
    "\n",
    "1.\tContinue with the Pandas data frame you read in from \"imdb.csv\", and create a new column that is the second Genre listed for each movie, if there are at least two genres listed, and if there is only one genre listed then just use that genre (for example, if a movie has Genre \"Action,Adventure,Comedy\" then you should have a column with value \"Action\" from before and now a new column with value \"Adventure\", whereas if a movie has Genre \"Action\" then both your old and new columns should have value \"Action\").\n",
    "2.\tProduce a pivot table showing the average Revenue for each value of first genre and second genre (so it should list the average revenue for Action-Action movies, and Action-Adventure movies, and ... etc.)"
   ]
  },
  {
   "cell_type": "code",
   "execution_count": null,
   "metadata": {},
   "outputs": [],
   "source": [
    "#list comprehension to create new column existing of the second genre listed in the \"Genre\" column for rows with more than one\n",
    "#value. If there is no second genre the \"SecondGenre\" column will hold the value of the first and only genre/\n",
    "\n",
    "imdb_df[\"SecondGenre\"] = [i.split(\",\")[0] if len(i.split(\",\")) < 2 else i.split(\",\")[1] for i in imdb_df[\"Genre\"]]\n",
    "\n",
    "#creates pivot table to show the mean revenue in millions for every combination of a moves first genre and second genre,\n",
    "#and first genre if there is only one.\n",
    "\n",
    "table = pd.pivot_table(imdb_df, \n",
    "                    values = \"Revenue (Millions)\",\n",
    "                    index = [\"TopGenre\", \"SecondGenre\"],\n",
    "                    aggfunc = np.mean,\n",
    "                    fill_value=0)\n",
    "\n",
    "#reshape table via unstack() for improved readability\n",
    "table.unstack()"
   ]
  },
  {
   "cell_type": "markdown",
   "metadata": {},
   "source": [
    "3.\tProduce a scatter plot showing how Revenue is related to Rating, and include a linear regression best-fit-line in this plot (there's a command to do this automatically, you can use that)."
   ]
  },
  {
   "cell_type": "code",
   "execution_count": 114,
   "metadata": {},
   "outputs": [
    {
     "data": {
      "image/png": "[encoded data removed]",
      "text/plain": [
       "<Figure size 432x432 with 3 Axes>"
      ]
     },
     "metadata": {
      "needs_background": "light"
     },
     "output_type": "display_data"
    }
   ],
   "source": [
    "#show relationship between rating and revenue\n",
    "sns.jointplot('Rating', 'Revenue (Millions)', data=imdb_df, kind='reg')\n",
    "plt.show()\n",
    "\n",
    "#TODO: Remove outliers/resize y-axis"
   ]
  },
  {
   "cell_type": "markdown",
   "metadata": {},
   "source": [
    "4.\tUse cross validation to get an average accuracy for predicting the first genre of movies, as you did in Part II, except now use Gaussian Naive Bayes \"GaussianNB\" instead of multinomial Naive Bayes, and use Revenue, Runtime, and Rating for your predictors instead of text mining the movie descriptions.   "
   ]
  },
  {
   "cell_type": "code",
   "execution_count": null,
   "metadata": {},
   "outputs": [],
   "source": [
    "#instantiate model object\n",
    "model2 = make_pipeline(GaussianNB())"
   ]
  },
  {
   "cell_type": "code",
   "execution_count": null,
   "metadata": {},
   "outputs": [],
   "source": [
    "#set\n",
    "predictors = pd.DataFrame(imdb_df[['Revenue (Millions)', 'Runtime (Minutes)', 'Rating']])\n",
    "predictors['Revenue (Millions)'] = predictors['Revenue (Millions)'].fillna(predictors['Revenue (Millions)'].mean())\n",
    "print(predictors)\n",
    "predictors = predictors.to_numpy()\n",
    "y = imdb_df['TopGenre']\n"
   ]
  },
  {
   "cell_type": "code",
   "execution_count": null,
   "metadata": {},
   "outputs": [],
   "source": [
    "y.value_counts()"
   ]
  },
  {
   "cell_type": "code",
   "execution_count": null,
   "metadata": {},
   "outputs": [],
   "source": [
    "#NOTE: if a model were to be put into production it is recommended that the dataset me modified in order to ensure that the\n",
    "#      minimum number of members of the least popular class be greater than or equal to the number of splits used in k-fold \n",
    "#      cross validation. You could either use a smaller amount of folds or remove the least popular classes until the rule is\n",
    "#      satisfied.\n",
    "\n",
    "model2.fit(predictors,y)\n",
    "print('The average accuracy score obtained over 5-fold CV is: ' + str(cross_val_score(model2, predictors, y, cv=5).mean()))"
   ]
  },
  {
   "cell_type": "markdown",
   "metadata": {},
   "source": [
    "# TODO\n",
    "## Redo assignment for more practice\n",
    "* Select better data. I.e, filter not just for rating but amount of ratings for data that will produce more meaningful results\n",
    "* Practice model testing/optimization and aim to improve accuracy metric\n",
    "* Maybe replicate with a different film API and compare ratings\n"
   ]
  },
  {
   "cell_type": "code",
   "execution_count": null,
   "metadata": {},
   "outputs": [],
   "source": []
  }
 ],
 "metadata": {
  "kernelspec": {
   "display_name": "Python 3",
   "language": "python",
   "name": "python3"
  },
  "language_info": {
   "codemirror_mode": {
    "name": "ipython",
    "version": 3
   },
   "file_extension": ".py",
   "mimetype": "text/x-python",
   "name": "python",
   "nbconvert_exporter": "python",
   "pygments_lexer": "ipython3",
   "version": "3.7.0"
  }
 },
 "nbformat": 4,
 "nbformat_minor": 2
}
